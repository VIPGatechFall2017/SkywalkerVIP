{
 "cells": [
  {
   "cell_type": "code",
   "execution_count": 1,
   "metadata": {},
   "outputs": [],
   "source": [
    "import time\n",
    "import math\n",
    "import random\n",
    "\n",
    "import pandas as pd\n",
    "import numpy as np\n",
    "import matplotlib.pyplot as plt\n",
    "import tensorflow as tf\n",
    "import cv2\n",
    "import dataset\n",
    "\n",
    "from sklearn.metrics import confusion_matrix\n",
    "from datetime import timedelta\n",
    "%matplotlib inline"
   ]
  },
  {
   "cell_type": "code",
   "execution_count": 6,
   "metadata": {},
   "outputs": [
    {
     "name": "stdout",
     "output_type": "stream",
     "text": [
      "The autoreload extension is already loaded. To reload it, use:\n",
      "  %reload_ext autoreload\n"
     ]
    }
   ],
   "source": [
    "%load_ext autoreload\n",
    "%autoreload 2\n",
    "from model import *\n",
    "from utils import *\n",
    "from DataSet import *\n",
    "from opt import *"
   ]
  },
  {
   "cell_type": "code",
   "execution_count": 3,
   "metadata": {},
   "outputs": [
    {
     "name": "stdout",
     "output_type": "stream",
     "text": [
      "Reading time: 0:00:00.165009\n"
     ]
    },
    {
     "data": {
      "image/png": "[encoded data removed]",
      "text/plain": [
       "<matplotlib.figure.Figure at 0x170c1668>"
      ]
     },
     "metadata": {},
     "output_type": "display_data"
    }
   ],
   "source": [
    "labels = get_labels('D:/Download/dataset/vip/zach_cont_gest_1/data.txt')\n",
    "imgs, labels = get_data(labels, 'D:/Download/dataset/vip/zach_cont_gest_1/*.png')\n",
    "imgs, labels = subsampling(imgs, labels)\n",
    "get_distribution(labels, plot=True)\n",
    "train_set = read_data_sets(imgs, labels).train\n",
    "val_set = read_data_sets(imgs, labels).validation\n",
    "test_set = read_data_sets(imgs, labels).test"
   ]
  },
  {
   "cell_type": "code",
   "execution_count": 4,
   "metadata": {},
   "outputs": [],
   "source": [
    "num_channels = 1\n",
    "img_size = 128\n",
    "img_size_flat = img_size * img_size * num_channels\n",
    "img_shape = (img_size, img_size)\n",
    "classes = np.array(list(set(labels)))\n",
    "num_classes = len(classes)\n",
    "batch_size = 32\n",
    "epoch_size = train_set.num_examples//32"
   ]
  },
  {
   "cell_type": "code",
   "execution_count": 7,
   "metadata": {},
   "outputs": [
    {
     "ename": "NameError",
     "evalue": "name 'tf' is not defined",
     "output_type": "error",
     "traceback": [
      "\u001b[1;31m---------------------------------------------------------------------------\u001b[0m",
      "\u001b[1;31mNameError\u001b[0m                                 Traceback (most recent call last)",
      "\u001b[1;32m<ipython-input-7-7daf698dfb0a>\u001b[0m in \u001b[0;36m<module>\u001b[1;34m()\u001b[0m\n\u001b[0;32m     16\u001b[0m     \u001b[0my_true\u001b[0m \u001b[1;33m=\u001b[0m \u001b[0mtf\u001b[0m\u001b[1;33m.\u001b[0m\u001b[0mplaceholder\u001b[0m\u001b[1;33m(\u001b[0m\u001b[0mtf\u001b[0m\u001b[1;33m.\u001b[0m\u001b[0mfloat32\u001b[0m\u001b[1;33m,\u001b[0m \u001b[0mshape\u001b[0m\u001b[1;33m=\u001b[0m\u001b[1;33m[\u001b[0m\u001b[1;32mNone\u001b[0m\u001b[1;33m,\u001b[0m \u001b[0mnum_classes\u001b[0m\u001b[1;33m]\u001b[0m\u001b[1;33m,\u001b[0m \u001b[0mname\u001b[0m\u001b[1;33m=\u001b[0m\u001b[1;34m'y_true'\u001b[0m\u001b[1;33m)\u001b[0m\u001b[1;33m\u001b[0m\u001b[0m\n\u001b[0;32m     17\u001b[0m     \u001b[0mlogits\u001b[0m \u001b[1;33m=\u001b[0m \u001b[0mconv_net\u001b[0m\u001b[1;33m(\u001b[0m\u001b[0mx\u001b[0m\u001b[1;33m,\u001b[0m \u001b[0mweights\u001b[0m\u001b[1;33m,\u001b[0m \u001b[0mbiases\u001b[0m\u001b[1;33m,\u001b[0m \u001b[0mimg_size\u001b[0m\u001b[1;33m,\u001b[0m \u001b[0mnum_channels\u001b[0m\u001b[1;33m)\u001b[0m\u001b[1;33m\u001b[0m\u001b[0m\n\u001b[1;32m---> 18\u001b[1;33m     \u001b[0mloss_op\u001b[0m \u001b[1;33m=\u001b[0m \u001b[0mloss_\u001b[0m\u001b[1;33m(\u001b[0m\u001b[0mlogits\u001b[0m\u001b[1;33m,\u001b[0m \u001b[0my_true\u001b[0m\u001b[1;33m)\u001b[0m\u001b[1;33m\u001b[0m\u001b[0m\n\u001b[0m\u001b[0;32m     19\u001b[0m     \u001b[0mtrain_op\u001b[0m \u001b[1;33m=\u001b[0m \u001b[0m_minimize\u001b[0m\u001b[1;33m(\u001b[0m\u001b[0mloss_op\u001b[0m\u001b[1;33m,\u001b[0m \u001b[1;36m1e-4\u001b[0m\u001b[1;33m)\u001b[0m\u001b[1;33m\u001b[0m\u001b[0m\n\u001b[0;32m     20\u001b[0m     \u001b[0maccuracy\u001b[0m \u001b[1;33m=\u001b[0m \u001b[0m_evaluate\u001b[0m\u001b[1;33m(\u001b[0m\u001b[0mlogits\u001b[0m\u001b[1;33m,\u001b[0m \u001b[0my_true\u001b[0m\u001b[1;33m)\u001b[0m\u001b[1;33m\u001b[0m\u001b[0m\n",
      "\u001b[1;32mD:\\Download\\dataset\\vip\\opt.py\u001b[0m in \u001b[0;36mloss_\u001b[1;34m(logits, labels)\u001b[0m\n\u001b[0;32m      1\u001b[0m \u001b[1;32mdef\u001b[0m \u001b[0mloss_\u001b[0m\u001b[1;33m(\u001b[0m\u001b[0mlogits\u001b[0m\u001b[1;33m,\u001b[0m\u001b[0mlabels\u001b[0m\u001b[1;33m)\u001b[0m\u001b[1;33m:\u001b[0m\u001b[1;33m\u001b[0m\u001b[0m\n\u001b[1;32m----> 2\u001b[1;33m     \u001b[0mcross_entropy\u001b[0m \u001b[1;33m=\u001b[0m \u001b[0mtf\u001b[0m\u001b[1;33m.\u001b[0m\u001b[0mnn\u001b[0m\u001b[1;33m.\u001b[0m\u001b[0msoftmax_cross_entropy_with_logits\u001b[0m\u001b[1;33m(\u001b[0m\u001b[0mlogits\u001b[0m\u001b[1;33m=\u001b[0m\u001b[0mlogits\u001b[0m\u001b[1;33m,\u001b[0m \u001b[0mlabels\u001b[0m\u001b[1;33m=\u001b[0m\u001b[0mlabels\u001b[0m\u001b[1;33m,\u001b[0m \u001b[0mname\u001b[0m\u001b[1;33m=\u001b[0m\u001b[1;34m'xentropy'\u001b[0m\u001b[1;33m)\u001b[0m\u001b[1;33m\u001b[0m\u001b[0m\n\u001b[0m\u001b[0;32m      3\u001b[0m     \u001b[0mloss_op\u001b[0m \u001b[1;33m=\u001b[0m \u001b[0mtf\u001b[0m\u001b[1;33m.\u001b[0m\u001b[0mreduce_mean\u001b[0m\u001b[1;33m(\u001b[0m\u001b[0mcross_entropy\u001b[0m\u001b[1;33m,\u001b[0m \u001b[0mname\u001b[0m\u001b[1;33m=\u001b[0m\u001b[1;34m'xentropy'\u001b[0m\u001b[1;33m)\u001b[0m\u001b[1;33m\u001b[0m\u001b[0m\n\u001b[0;32m      4\u001b[0m     \u001b[1;32mreturn\u001b[0m \u001b[0mloss_op\u001b[0m\u001b[1;33m\u001b[0m\u001b[0m\n\u001b[0;32m      5\u001b[0m \u001b[1;33m\u001b[0m\u001b[0m\n",
      "\u001b[1;31mNameError\u001b[0m: name 'tf' is not defined"
     ]
    }
   ],
   "source": [
    "with tf.Graph().as_default():\n",
    "    weights = {\n",
    "        'wc1':weight_variable([5, 5, 1, 32]),\n",
    "        'wc2':weight_variable([5, 5, 32, 64]),\n",
    "        'wfc1':weight_variable([65536, 1024]),\n",
    "        'wfc2':weight_variable([1024, num_classes]),\n",
    "    }\n",
    "\n",
    "    biases = {\n",
    "        'bc1':bias_variable([32]),\n",
    "        'bc2':bias_variable([64]),\n",
    "        'bfc1':bias_variable([1024]),\n",
    "        'bfc2':bias_variable([num_classes])\n",
    "    }\n",
    "    x = tf.placeholder(tf.float32, shape=[None, img_size_flat], name='x')\n",
    "    y_true = tf.placeholder(tf.float32, shape=[None, num_classes], name='y_true')\n",
    "    logits = conv_net(x, weights, biases, img_size, num_channels)\n",
    "    loss_op = loss_(logits, y_true)\n",
    "    train_op = minimize_(loss_op, 1e-4)\n",
    "    accuracy = evaluate_(logits, y_true)\n",
    "    summary_op = tf.summary.merge_all()\n",
    "    saver = tf.train.Saver()\n",
    "    sess = tf.Session()\n",
    "    init = tf.global_variables_initializer()\n",
    "    sess.run(init)\n",
    "    summary_writer = tf.summary.FileWriter(logdir='log/')\n",
    "    import time\n",
    "    step_log = open('step_log.txt', 'w') \n",
    "    eval_log = open('eval_log.txt', 'w')\n",
    "    epoch = 1\n",
    "    for step in range(1, 11):\n",
    "        start_time = time.time()\n",
    "        x_batch, cls_batch, y_true_batch = train_set.next_batch(batch_size)  \n",
    "        x_batch = x_batch.reshape(batch_size, img_size_flat)\n",
    "        feed_dict_train = {x: x_batch, y_true: y_true_batch}\n",
    "        _, loss_value = sess.run([train_op, loss_op], feed_dict=feed_dict_train)\n",
    "\n",
    "        duration = time.time() - start_time\n",
    "        if step % 50 == 0:\n",
    "            log = ('Step %d: loss = %.2f (%.3f sec)\\n' % (step, loss_value, duration))\n",
    "            step_log.write(log)\n",
    "            summary_str = sess.run(summary_op, feed_dict=feed_dict_train)\n",
    "            summary_writer.add_summary(summary_str, step)\n",
    "\n",
    "        if step % epoch_size == 0:\n",
    "            saver.save(sess, 'log/', global_step=step)\n",
    "            eval_log.write('-------------------------Epoch '+str(epoch)+'-----------------------:\\n')\n",
    "            eval_log.write('Training Data Eval:\\n')\n",
    "            start_time = time.time()\n",
    "            _eval(sess, accuracy, x, y_true, train_set, eval_log)\n",
    "            eval_log.write('Training Duration: %.3f sec' % (time.time() - start_time))\n",
    "\n",
    "            eval_log.write('Validation Data Eval:\\n')\n",
    "            start_time = time.time()\n",
    "            _eval(sess, accuracy, x, y_true, val_set, eval_log)\n",
    "            eval_log.write('Validation Duration: %.3f sec' % (time.time() - start_time))\n",
    "\n",
    "            eval_log.write('Testing Data Eval:\\n')\n",
    "            start_time = time.time()\n",
    "            _eval(sess, accuracy, x, y_true, test_set, eval_log)\n",
    "            eval_log.write('Testing Duration: %.3f sec\\n' % (time.time() - start_time))\n",
    "            epoch+=1\n",
    "    eval_log.close()\n",
    "    step_log.close()"
   ]
  },
  {
   "cell_type": "code",
   "execution_count": null,
   "metadata": {},
   "outputs": [],
   "source": [
    "plot_conv_weights(sess, weights=weights['wc1'])"
   ]
  },
  {
   "cell_type": "code",
   "execution_count": null,
   "metadata": {},
   "outputs": [],
   "source": [
    "x_image = tf.reshape(x, [-1, img_size, img_size, num_channels])\n",
    "conv1 = conv2d_layer(x_image, weights['wc1'], biases['bc1'], tf.nn.relu)\n",
    "conv1 = maxpool2d_layer(conv1, strides1=2, strides2=2)\n",
    "image1 = test_set.images[0]\n",
    "plot_conv_layer(sess, x, layer=conv1, image=image1)"
   ]
  },
  {
   "cell_type": "code",
   "execution_count": null,
   "metadata": {},
   "outputs": [],
   "source": []
  }
 ],
 "metadata": {
  "kernelspec": {
   "display_name": "Python 3",
   "language": "python",
   "name": "python3"
  },
  "language_info": {
   "codemirror_mode": {
    "name": "ipython",
    "version": 3
   },
   "file_extension": ".py",
   "mimetype": "text/x-python",
   "name": "python",
   "nbconvert_exporter": "python",
   "pygments_lexer": "ipython3",
   "version": "3.6.3"
  }
 },
 "nbformat": 4,
 "nbformat_minor": 2
}
